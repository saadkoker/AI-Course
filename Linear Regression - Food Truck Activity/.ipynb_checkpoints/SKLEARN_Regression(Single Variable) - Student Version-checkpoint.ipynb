{
 "cells": [
  {
   "cell_type": "markdown",
   "metadata": {},
   "source": [
    "# Single Variable Regression"
   ]
  },
  {
   "cell_type": "markdown",
   "metadata": {},
   "source": [
    "In this assignment you will learn how to \n",
    "1. Use professional data science tools to perform a single variable linear regression\n",
    "2. Use matrix math to write your own version of a single variable linear regression\n",
    "\n",
    "### Run Each Code box as you go through the note \n",
    "- Click the arrow \n",
    "- Or Shift+Enter on the box\n",
    "- If things don't look right or there are errors look at the menu Kernal->Restart & Clear Output to Start Over"
   ]
  },
  {
   "cell_type": "markdown",
   "metadata": {},
   "source": [
    "## Using SKLEARN Library\n",
    "In order to access some function in our code we need to load the libraries into our program\n",
    "- Numpy Library so we can use matrices\n",
    "- Sklearn Libary so we can do the linear regression\n",
    "- matplotlib so we can plot the data\n",
    "\n"
   ]
  },
  {
   "cell_type": "code",
   "execution_count": 1,
   "metadata": {},
   "outputs": [],
   "source": [
    "import numpy as np\n",
    "from sklearn.linear_model import LinearRegression\n",
    "import matplotlib.pyplot as plt\n",
    "%matplotlib inline "
   ]
  },
  {
   "cell_type": "markdown",
   "metadata": {},
   "source": [
    "- Here is some sample data that we are going to use in our program\n",
    "- The data is stored in regular python lists"
   ]
  },
  {
   "cell_type": "code",
   "execution_count": 2,
   "metadata": {},
   "outputs": [
    {
     "name": "stdout",
     "output_type": "stream",
     "text": [
      "[0, 1, 2, 3, 4, 5, 6]\n",
      "[4.2, 7.5, 9, 12.3, 14, 19.2, 22]\n"
     ]
    }
   ],
   "source": [
    "x = [0,1,2,3,4,5,6]\n",
    "y = [4.2,7.5,9,12.3,14,19.2, 22]\n",
    "print(x)\n",
    "print(y)\n"
   ]
  },
  {
   "cell_type": "markdown",
   "metadata": {},
   "source": [
    "It is usually a good idea to look at the data before you do anything else to determine if the data is even a good candidate for a linear regression. \n",
    "\n",
    "We can use the plot command from the matplotlib to accomplish our task.  You need to give it two lists with the same size, and if you want a scatter plot, put the 'o' as the marker after the list variable\n",
    "\n"
   ]
  },
  {
   "cell_type": "code",
   "execution_count": 3,
   "metadata": {},
   "outputs": [
    {
     "data": {
      "text/plain": [
       "[<matplotlib.lines.Line2D at 0x27eeae38b20>]"
      ]
     },
     "execution_count": 3,
     "metadata": {},
     "output_type": "execute_result"
    },
    {
     "data": {
      "image/png": "[encoded data removed]",
      "text/plain": [
       "<Figure size 432x288 with 1 Axes>"
      ]
     },
     "metadata": {
      "needs_background": "light"
     },
     "output_type": "display_data"
    }
   ],
   "source": [
    "plt.plot(x,y, 'o')"
   ]
  },
  {
   "cell_type": "markdown",
   "metadata": {},
   "source": [
    "Looking at the data below it looks like a line of best fit will give us pretty good results if trying to predict future values.\n",
    "\n",
    "\n",
    "Before we can use the linear regression functions from the SKLEARN Library, we need to convert the data from a list to a Column Matrix.\n",
    "\n",
    "np.matrix(list) will convert to a row matrix, and its transpose np.matrix(list).T will make it a column matrix\n",
    "\n"
   ]
  },
  {
   "cell_type": "code",
   "execution_count": 4,
   "metadata": {},
   "outputs": [
    {
     "name": "stdout",
     "output_type": "stream",
     "text": [
      "[[0]\n",
      " [1]\n",
      " [2]\n",
      " [3]\n",
      " [4]\n",
      " [5]\n",
      " [6]]\n",
      "[[ 4.2]\n",
      " [ 7.5]\n",
      " [ 9. ]\n",
      " [12.3]\n",
      " [14. ]\n",
      " [19.2]\n",
      " [22. ]]\n"
     ]
    }
   ],
   "source": [
    "x = np.matrix(x).T\n",
    "y = np.matrix(y).T\n",
    "print(x)\n",
    "print(y)"
   ]
  },
  {
   "cell_type": "markdown",
   "metadata": {},
   "source": [
    "We start the linear regression using a function called LinearRegression and store all its properties in a variable called lm.  We can then use that variable to perform tasks on the linear regression"
   ]
  },
  {
   "cell_type": "code",
   "execution_count": 5,
   "metadata": {},
   "outputs": [],
   "source": [
    "lm = LinearRegression()"
   ]
  },
  {
   "cell_type": "markdown",
   "metadata": {},
   "source": [
    "Now we can build the line of best fit and get the theta values."
   ]
  },
  {
   "cell_type": "code",
   "execution_count": 6,
   "metadata": {
    "scrolled": true
   },
   "outputs": [
    {
     "name": "stdout",
     "output_type": "stream",
     "text": [
      "The equation that best models the data set is:\n",
      "y= 3.8357142857142854 + 2.9214285714285713 X\n"
     ]
    }
   ],
   "source": [
    "lm.fit(x,y)\n",
    "theta0 = lm.intercept_[0]\n",
    "theta1 = lm.coef_[0][0]\n",
    "print(\"The equation that best models the data set is:\")\n",
    "print(\"y=\",theta0, \"+\", theta1,\"X\")"
   ]
  },
  {
   "cell_type": "markdown",
   "metadata": {},
   "source": [
    "The following code will allow you to draw the line of best fit on the data.  \n",
    "- This is accomplished by creating a list of x and y values for the equation y = theta0 + theta1*x\n",
    "\n",
    "We need to know the range of our data to build that list which is why we find the minimum and max values for our data set"
   ]
  },
  {
   "cell_type": "code",
   "execution_count": 7,
   "metadata": {},
   "outputs": [
    {
     "data": {
      "text/plain": [
       "[<matplotlib.lines.Line2D at 0x27eec156ca0>]"
      ]
     },
     "execution_count": 7,
     "metadata": {},
     "output_type": "execute_result"
    },
    {
     "data": {
      "image/png": "[encoded data removed]",
      "text/plain": [
       "<Figure size 432x288 with 1 Axes>"
      ]
     },
     "metadata": {
      "needs_background": "light"
     },
     "output_type": "display_data"
    }
   ],
   "source": [
    "lbfY = []\n",
    "lbfX = []\n",
    "xMin = int(np.min(x))\n",
    "xMax = int(np.max(x))\n",
    "for i in range(xMin,xMax+1):\n",
    "    lbfY.append(theta0 + theta1*i)\n",
    "    lbfX.append(i)\n",
    "plt.plot(x,y,'o')\n",
    "plt.plot(lbfX,lbfY)\n"
   ]
  },
  {
   "cell_type": "markdown",
   "metadata": {},
   "source": [
    "Make some Predictions about future data using the model"
   ]
  },
  {
   "cell_type": "code",
   "execution_count": 8,
   "metadata": {},
   "outputs": [
    {
     "name": "stdout",
     "output_type": "stream",
     "text": [
      "[[24.28571429]]\n",
      "[[12.6]]\n"
     ]
    }
   ],
   "source": [
    "#Find the y when x = 7\n",
    "p1 = lm.predict([[7]])\n",
    "print(p1)\n",
    "\n",
    "#Find the y when x = 3\n",
    "p2 = lm.predict([[3]])\n",
    "print(p2)"
   ]
  },
  {
   "cell_type": "markdown",
   "metadata": {},
   "source": [
    "# Question #1\n",
    "\n",
    "Fill in the code block below so it accomplishes the following tasks\n",
    "\n",
    "1.  Perform a linear regression on the data and print out the equation (y= theta0 + theta1x)\n",
    "2.  Plot the original data as a scatter plot and then the line of best fit on the same axis\n",
    "5.  Comment in a few words on how well you think your model does\n",
    "6.  Predict some future values of y when x = 30, x = 55, x = 75\n",
    "  "
   ]
  },
  {
   "cell_type": "code",
   "execution_count": 9,
   "metadata": {
    "scrolled": true
   },
   "outputs": [
    {
     "name": "stdout",
     "output_type": "stream",
     "text": [
      "[[85.]\n",
      " [90.]\n",
      " [76.]\n",
      " [78.]\n",
      " [88.]\n",
      " [84.]\n",
      " [76.]\n",
      " [96.]\n",
      " [86.]\n",
      " [85.]]\n",
      "[[74.]\n",
      " [83.]\n",
      " [68.]\n",
      " [70.]\n",
      " [75.]\n",
      " [72.]\n",
      " [64.]\n",
      " [91.]\n",
      " [78.]\n",
      " [86.]]\n",
      "The equation that best models the data set is:\n",
      "y= -22.474753018660834 + 1.1679473106476401 X\n",
      "[[-14.29912184]]\n",
      "[[-18.97091109]]\n"
     ]
    },
    {
     "data": {
      "image/png": "[encoded data removed]",
      "text/plain": [
       "<Figure size 432x288 with 1 Axes>"
      ]
     },
     "metadata": {
      "needs_background": "light"
     },
     "output_type": "display_data"
    }
   ],
   "source": [
    "#Code to read data from a text file\n",
    "#Make sure that text file is in the same directory as this notebook file\n",
    "import os\n",
    "path = os.getcwd() + '\\data.txt'\n",
    "\n",
    "x=[]\n",
    "y=[]\n",
    "file = open(path,\"r\")\n",
    "while True:\n",
    "    line = file.readline()\n",
    "    if not line:\n",
    "        break\n",
    "    else:\n",
    "        values = line.split(\",\")\n",
    "        x.append(float(values[0]))\n",
    "        y.append(float(values[1].rstrip(\"\\n\")))\n",
    "file.close()\n",
    "\n",
    "#---Type your solution here-------------------------------\n",
    "\n",
    "#Code for linear Regression\n",
    "x = np.matrix(x).T\n",
    "y = np.matrix(y).T\n",
    "print(x)\n",
    "print(y)\n",
    "\n",
    "lm = LinearRegression()\n",
    "\n",
    "lm.fit(x,y)\n",
    "theta0 = lm.intercept_[0]\n",
    "theta1 = lm.coef_[0][0]\n",
    "print(\"The equation that best models the data set is:\")\n",
    "print(\"y=\",theta0, \"+\", theta1,\"X\")\n",
    "\n",
    "#Code for Graphs\n",
    "lbfY = []\n",
    "lbfX = []\n",
    "xMin = int(np.min(x))\n",
    "xMax = int(np.max(x))\n",
    "for i in range(xMin,xMax+1):\n",
    "    lbfY.append(theta0 + theta1*i)\n",
    "    lbfX.append(i)\n",
    "plt.plot(x,y,'o')\n",
    "plt.plot(lbfX,lbfY)\n",
    "\"\"\"\n",
    "Comments on how well the model does\n",
    "\n",
    "\n",
    "\"\"\"\n",
    "\n",
    "#Code for Predictions\n",
    "#Find the y when x = 7\n",
    "p1 = lm.predict([[7]])\n",
    "print(p1)\n",
    "\n",
    "#Find the y when x = 3\n",
    "p2 = lm.predict([[3]])\n",
    "print(p2)\n"
   ]
  },
  {
   "cell_type": "markdown",
   "metadata": {},
   "source": [
    "# Question #2 - Food Truck Data\n",
    "\n",
    "Writing our own version of a Linear Regression Algorithm using Matrices\n",
    "\n",
    "Make sure you have **looked at the Presentation** online and also **Read the pdf file** that you downloaded with this assignment that explains the matrix math in a little more detail\n",
    "\n",
    "Follow along the steps below and complete the code when asked\n"
   ]
  },
  {
   "cell_type": "markdown",
   "metadata": {},
   "source": [
    "About The Data Set:\n",
    "\n",
    "Suppose you are the CEO of a restaurant franchise and are considering different cities for opening a new outlet. The chain already has trucks in various cities and you have data for profits and populations from the cities. The data represents 1000's of people and 1000's of dollars\n",
    "\n",
    "### Instructions\n"
   ]
  },
  {
   "cell_type": "markdown",
   "metadata": {},
   "source": [
    "Fill two lists named x and y with the data from **FoodTruck.txt**\n",
    "- x represents Population\n",
    "- y respresents Profit\n",
    "\n"
   ]
  },
  {
   "cell_type": "code",
   "execution_count": 18,
   "metadata": {},
   "outputs": [
    {
     "name": "stdout",
     "output_type": "stream",
     "text": [
      "5.0269\n"
     ]
    }
   ],
   "source": [
    "#---Type your solution here-------------------------------\n",
    "path = os.getcwd() + '\\FoodTruck.txt'\n",
    "\n",
    "x=[]\n",
    "y=[]\n",
    "file = open(path,\"r\")\n",
    "while True:\n",
    "    line = file.readline()\n",
    "    if not line:\n",
    "        break\n",
    "    else:\n",
    "        values = line.split(\",\")\n",
    "        x.append(float(values[0]))\n",
    "        y.append(float(values[1].rstrip(\"\\n\")))\n",
    "file.close()\n",
    "\n",
    "print(min(x))"
   ]
  },
  {
   "cell_type": "markdown",
   "metadata": {},
   "source": [
    "Make a scater plot of the data"
   ]
  },
  {
   "cell_type": "code",
   "execution_count": 14,
   "metadata": {},
   "outputs": [
    {
     "data": {
      "text/plain": [
       "[<matplotlib.lines.Line2D at 0x27eec21f9a0>]"
      ]
     },
     "execution_count": 14,
     "metadata": {},
     "output_type": "execute_result"
    },
    {
     "data": {
      "image/png": "[encoded data removed]",
      "text/plain": [
       "<Figure size 432x288 with 1 Axes>"
      ]
     },
     "metadata": {
      "needs_background": "light"
     },
     "output_type": "display_data"
    }
   ],
   "source": [
    "#---Type your solution here-------------------------------\n",
    "plt.plot(x,y, 'o')"
   ]
  },
  {
   "cell_type": "markdown",
   "metadata": {},
   "source": [
    "Make an initial guess for the value of theta0 and theta1 by looking at your plot"
   ]
  },
  {
   "cell_type": "code",
   "execution_count": 19,
   "metadata": {},
   "outputs": [],
   "source": [
    "#--- Model Parameters ---------------------------------------------------\n",
    "#THESE VALUES YOU CAN CHANGE TO SEE HOW THE RESULTS OF YOUR REGRESSION CHANGE\n",
    "\n",
    "#Initial Guess for Weights in hypothesis function\n",
    "theta0 = 5.0269\n",
    "theta1 = 1\n",
    "\n",
    "#learning rate \n",
    "alpha = 0.01\n",
    "\n",
    "#convergence so we know when to stop (0.1 -> converage after 1 decimal spot, 0.01 converage after 2 decimal spots)\n",
    "conv = 0.001\n",
    "\n",
    "#-----------------------------------------------------------------------"
   ]
  },
  {
   "cell_type": "markdown",
   "metadata": {},
   "source": [
    "Find the length of the x list using the len(listName) command.  Store the result in a variable called m"
   ]
  },
  {
   "cell_type": "code",
   "execution_count": 20,
   "metadata": {},
   "outputs": [],
   "source": [
    "#---Type your solution here-------------------------------\n",
    "m = len(x)"
   ]
  },
  {
   "cell_type": "markdown",
   "metadata": {},
   "source": [
    "Convert the x and y lists to a column matrix"
   ]
  },
  {
   "cell_type": "code",
   "execution_count": 21,
   "metadata": {},
   "outputs": [
    {
     "name": "stdout",
     "output_type": "stream",
     "text": [
      "[[ 6.1101]\n",
      " [ 5.5277]\n",
      " [ 8.5186]\n",
      " [ 7.0032]\n",
      " [ 5.8598]\n",
      " [ 8.3829]\n",
      " [ 7.4764]\n",
      " [ 8.5781]\n",
      " [ 6.4862]\n",
      " [ 5.0546]\n",
      " [ 5.7107]\n",
      " [14.164 ]\n",
      " [ 5.734 ]\n",
      " [ 8.4084]\n",
      " [ 5.6407]\n",
      " [ 5.3794]\n",
      " [ 6.3654]\n",
      " [ 5.1301]\n",
      " [ 6.4296]\n",
      " [ 7.0708]\n",
      " [ 6.1891]\n",
      " [20.27  ]\n",
      " [ 5.4901]\n",
      " [ 6.3261]\n",
      " [ 5.5649]\n",
      " [18.945 ]\n",
      " [12.828 ]\n",
      " [10.957 ]\n",
      " [13.176 ]\n",
      " [22.203 ]\n",
      " [ 5.2524]\n",
      " [ 6.5894]\n",
      " [ 9.2482]\n",
      " [ 5.8918]\n",
      " [ 8.2111]\n",
      " [ 7.9334]\n",
      " [ 8.0959]\n",
      " [ 5.6063]\n",
      " [12.836 ]\n",
      " [ 6.3534]\n",
      " [ 5.4069]\n",
      " [ 6.8825]\n",
      " [11.708 ]\n",
      " [ 5.7737]\n",
      " [ 7.8247]\n",
      " [ 7.0931]\n",
      " [ 5.0702]\n",
      " [ 5.8014]\n",
      " [11.7   ]\n",
      " [ 5.5416]\n",
      " [ 7.5402]\n",
      " [ 5.3077]\n",
      " [ 7.4239]\n",
      " [ 7.6031]\n",
      " [ 6.3328]\n",
      " [ 6.3589]\n",
      " [ 6.2742]\n",
      " [ 5.6397]\n",
      " [ 9.3102]\n",
      " [ 9.4536]\n",
      " [ 8.8254]\n",
      " [ 5.1793]\n",
      " [21.279 ]\n",
      " [14.908 ]\n",
      " [18.959 ]\n",
      " [ 7.2182]\n",
      " [ 8.2951]\n",
      " [10.236 ]\n",
      " [ 5.4994]\n",
      " [20.341 ]\n",
      " [10.136 ]\n",
      " [ 7.3345]\n",
      " [ 6.0062]\n",
      " [ 7.2259]\n",
      " [ 5.0269]\n",
      " [ 6.5479]\n",
      " [ 7.5386]\n",
      " [ 5.0365]\n",
      " [10.274 ]\n",
      " [ 5.1077]\n",
      " [ 5.7292]\n",
      " [ 5.1884]\n",
      " [ 6.3557]\n",
      " [ 9.7687]\n",
      " [ 6.5159]\n",
      " [ 8.5172]\n",
      " [ 9.1802]\n",
      " [ 6.002 ]\n",
      " [ 5.5204]\n",
      " [ 5.0594]\n",
      " [ 5.7077]\n",
      " [ 7.6366]\n",
      " [ 5.8707]\n",
      " [ 5.3054]\n",
      " [ 8.2934]\n",
      " [13.394 ]\n",
      " [ 5.4369]]\n",
      "[[17.592  ]\n",
      " [ 9.1302 ]\n",
      " [13.662  ]\n",
      " [11.854  ]\n",
      " [ 6.8233 ]\n",
      " [11.886  ]\n",
      " [ 4.3483 ]\n",
      " [12.     ]\n",
      " [ 6.5987 ]\n",
      " [ 3.8166 ]\n",
      " [ 3.2522 ]\n",
      " [15.505  ]\n",
      " [ 3.1551 ]\n",
      " [ 7.2258 ]\n",
      " [ 0.71618]\n",
      " [ 3.5129 ]\n",
      " [ 5.3048 ]\n",
      " [ 0.56077]\n",
      " [ 3.6518 ]\n",
      " [ 5.3893 ]\n",
      " [ 3.1386 ]\n",
      " [21.767  ]\n",
      " [ 4.263  ]\n",
      " [ 5.1875 ]\n",
      " [ 3.0825 ]\n",
      " [22.638  ]\n",
      " [13.501  ]\n",
      " [ 7.0467 ]\n",
      " [14.692  ]\n",
      " [24.147  ]\n",
      " [-1.22   ]\n",
      " [ 5.9966 ]\n",
      " [12.134  ]\n",
      " [ 1.8495 ]\n",
      " [ 6.5426 ]\n",
      " [ 4.5623 ]\n",
      " [ 4.1164 ]\n",
      " [ 3.3928 ]\n",
      " [10.117  ]\n",
      " [ 5.4974 ]\n",
      " [ 0.55657]\n",
      " [ 3.9115 ]\n",
      " [ 5.3854 ]\n",
      " [ 2.4406 ]\n",
      " [ 6.7318 ]\n",
      " [ 1.0463 ]\n",
      " [ 5.1337 ]\n",
      " [ 1.844  ]\n",
      " [ 8.0043 ]\n",
      " [ 1.0179 ]\n",
      " [ 6.7504 ]\n",
      " [ 1.8396 ]\n",
      " [ 4.2885 ]\n",
      " [ 4.9981 ]\n",
      " [ 1.4233 ]\n",
      " [-1.4211 ]\n",
      " [ 2.4756 ]\n",
      " [ 4.6042 ]\n",
      " [ 3.9624 ]\n",
      " [ 5.4141 ]\n",
      " [ 5.1694 ]\n",
      " [-0.74279]\n",
      " [17.929  ]\n",
      " [12.054  ]\n",
      " [17.054  ]\n",
      " [ 4.8852 ]\n",
      " [ 5.7442 ]\n",
      " [ 7.7754 ]\n",
      " [ 1.0173 ]\n",
      " [20.992  ]\n",
      " [ 6.6799 ]\n",
      " [ 4.0259 ]\n",
      " [ 1.2784 ]\n",
      " [ 3.3411 ]\n",
      " [-2.6807 ]\n",
      " [ 0.29678]\n",
      " [ 3.8845 ]\n",
      " [ 5.7014 ]\n",
      " [ 6.7526 ]\n",
      " [ 2.0576 ]\n",
      " [ 0.47953]\n",
      " [ 0.20421]\n",
      " [ 0.67861]\n",
      " [ 7.5435 ]\n",
      " [ 5.3436 ]\n",
      " [ 4.2415 ]\n",
      " [ 6.7981 ]\n",
      " [ 0.92695]\n",
      " [ 0.152  ]\n",
      " [ 2.8214 ]\n",
      " [ 1.8451 ]\n",
      " [ 4.2959 ]\n",
      " [ 7.2029 ]\n",
      " [ 1.9869 ]\n",
      " [ 0.14454]\n",
      " [ 9.0551 ]\n",
      " [ 0.61705]]\n"
     ]
    }
   ],
   "source": [
    "#---Type your solution here-------------------------------\n",
    "x = np.matrix(x).T\n",
    "y = np.matrix(y).T\n",
    "print(x)\n",
    "print(y)"
   ]
  },
  {
   "cell_type": "markdown",
   "metadata": {},
   "source": [
    "Create a (2 x 1) column matrix containing the values from theta0 and theta1.  Call that matrix theta"
   ]
  },
  {
   "cell_type": "code",
   "execution_count": null,
   "metadata": {},
   "outputs": [],
   "source": [
    "#---Type your solution here-------------------------------\n",
    "theta = "
   ]
  },
  {
   "cell_type": "markdown",
   "metadata": {},
   "source": [
    "Create an (m x 1) column matrix filled with ones.  Call the matrix ones.\n",
    "- You can use the function np.ones( (#ofRows, #ofColumns) ) to accomplish this"
   ]
  },
  {
   "cell_type": "code",
   "execution_count": null,
   "metadata": {},
   "outputs": [],
   "source": [
    "#---Type your solution here-------------------------------\n",
    "ones ="
   ]
  },
  {
   "cell_type": "markdown",
   "metadata": {},
   "source": [
    "Stack the ones column matrix before the x matrix to make a new (m x 2) matrix called x\n",
    "- You can use the function np.hstack(col1MatrixName, col2MatrixName) to accomplish this\n",
    "- Note:  If you run this code more than once you will keep stacking 1's into the matrix\n",
    "- Print x after you run it to make sure everything is ok"
   ]
  },
  {
   "cell_type": "code",
   "execution_count": null,
   "metadata": {},
   "outputs": [],
   "source": [
    "#---Type your solution here-------------------------------\n",
    "x = "
   ]
  },
  {
   "cell_type": "markdown",
   "metadata": {},
   "source": [
    "This next section is going to do the gradient descent algorithm to minimize the cost.  Fill in the missing code under the comments"
   ]
  },
  {
   "cell_type": "code",
   "execution_count": null,
   "metadata": {},
   "outputs": [],
   "source": [
    "previousCost = 0\n",
    "numSteps = 0\n",
    "while True:\n",
    "    \n",
    "    #Counts how many times the gradient descent takes to reach the minimum cost\n",
    "    numSteps = numSteps + 1\n",
    "    \n",
    "    #create the hypothesis matrix\n",
    "    #Its the dot product betwween the x matrix and the Theta matrix\n",
    "    hypothesis =   \n",
    "    \n",
    "    #create the error matrix\n",
    "    #Its the hypothesis matrix subtracted by the y matrix\n",
    "    error = \n",
    "    \n",
    "    #Calculate the sum of the errors squared\n",
    "    #Its the dot product between the transpose of the error matrix and the non transposed error matrix\n",
    "    totalError = \n",
    "    \n",
    "    #Calculate the cost\n",
    "    #Its 1/(2m) multiplied by the total error\n",
    "    cost = \n",
    "    \n",
    "    #Checking if the cost has converged to less than the conversion parameter\n",
    "    if abs(previousCost - cost) <= conv:\n",
    "        break\n",
    "    else:\n",
    "        #Calculate new alpha error for theta0\n",
    "        #Its the dot product of the transposed error matrix with the first column of the x matrix x[:,0]\n",
    "        alphaError0 = \n",
    "        \n",
    "        #Calculate new alpha error for theta1\n",
    "        #Its the dot product of the transposed error matrix with the second column of the x matrix x[:,1]        \n",
    "        alphaError1 = \n",
    "        \n",
    "        #Calculate the new theta0 value\n",
    "        #Its the theta0 value - alpha/m multiplied by alphaError0\n",
    "        theta0 = \n",
    "        \n",
    "        #Calculate the new theta1 value\n",
    "        #Its the theta1 value - alpha/m multiplied by alphaError1\n",
    "        theta1 =\n",
    "    \n",
    "        #Put the new theta values into the theta matrix\n",
    "        theta = np.matrix([[theta0[0,0]],[theta1[0,0]]])\n",
    "        \n",
    "        #reset the previous cost for next comparison\n",
    "        previousCost = cost"
   ]
  },
  {
   "cell_type": "markdown",
   "metadata": {},
   "source": [
    "Print the value of:  \n",
    "-  numSteps\n",
    "-  theta0\n",
    "-  theta1\n",
    "-  cost"
   ]
  },
  {
   "cell_type": "code",
   "execution_count": null,
   "metadata": {},
   "outputs": [],
   "source": [
    "#---Type your solution here-------------------------------\n",
    "\n",
    "\n",
    "\n"
   ]
  },
  {
   "cell_type": "markdown",
   "metadata": {},
   "source": [
    "Make comments on what happens when you change the parameters at the start of the program\n",
    "- What happens when you change theta0 and theta1?\n",
    "- What happens when you increase alpha?  decrease alpha?\n",
    "- What happens when you increase conv?  decrease conv?\n",
    "\n",
    "You will have to rerun all the code cells in Question2 to see the results of your changes"
   ]
  },
  {
   "cell_type": "code",
   "execution_count": null,
   "metadata": {},
   "outputs": [],
   "source": [
    "\"\"\"\n",
    "---Type your comments here-------------------------------\n",
    "\n",
    "\n",
    "\n",
    "\"\"\""
   ]
  },
  {
   "cell_type": "markdown",
   "metadata": {},
   "source": [
    "Choose acceptable initial parameters and then make a prediction of the Profit for a Population of 55000 people \n",
    "- Remember the population # in the data set is in 1000's of people\n",
    "- Remember the model is theta0 + theta1*x\n",
    "\n",
    "Print the answer"
   ]
  },
  {
   "cell_type": "code",
   "execution_count": null,
   "metadata": {},
   "outputs": [],
   "source": [
    "#---Type your solution here-------------------------------\n",
    "\n",
    "\n",
    "\n"
   ]
  },
  {
   "cell_type": "markdown",
   "metadata": {},
   "source": [
    "You've Finished Your First Regression Coding Assignment\n",
    "- I recommend going to the Kernal Menu -> Restart & Run All\n",
    "    - This will make sure there is no weird errors going on that sometimes occur with Jupyter Notebooks\n",
    "- Save and upload this document to be graded"
   ]
  },
  {
   "cell_type": "code",
   "execution_count": null,
   "metadata": {},
   "outputs": [],
   "source": []
  }
 ],
 "metadata": {
  "kernelspec": {
   "display_name": "Python 3",
   "language": "python",
   "name": "python3"
  },
  "language_info": {
   "codemirror_mode": {
    "name": "ipython",
    "version": 3
   },
   "file_extension": ".py",
   "mimetype": "text/x-python",
   "name": "python",
   "nbconvert_exporter": "python",
   "pygments_lexer": "ipython3",
   "version": "3.8.5"
  }
 },
 "nbformat": 4,
 "nbformat_minor": 2
}
