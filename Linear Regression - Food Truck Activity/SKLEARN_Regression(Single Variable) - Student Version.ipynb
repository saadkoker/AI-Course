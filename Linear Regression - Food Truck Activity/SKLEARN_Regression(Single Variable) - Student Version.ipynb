{
 "cells": [
  {
   "cell_type": "markdown",
   "metadata": {},
   "source": [
    "# Single Variable Regression"
   ]
  },
  {
   "cell_type": "markdown",
   "metadata": {},
   "source": [
    "In this assignment you will learn how to \n",
    "1. Use professional data science tools to perform a single variable linear regression\n",
    "2. Use matrix math to write your own version of a single variable linear regression\n",
    "\n",
    "### Run Each Code box as you go through the note \n",
    "- Click the arrow \n",
    "- Or Shift+Enter on the box\n",
    "- If things don't look right or there are errors look at the menu Kernal->Restart & Clear Output to Start Over"
   ]
  },
  {
   "cell_type": "markdown",
   "metadata": {},
   "source": [
    "## Using SKLEARN Library\n",
    "In order to access some function in our code we need to load the libraries into our program\n",
    "- Numpy Library so we can use matrices\n",
    "- Sklearn Libary so we can do the linear regression\n",
    "- matplotlib so we can plot the data\n",
    "\n"
   ]
  },
  {
   "cell_type": "code",
   "execution_count": null,
   "metadata": {},
   "outputs": [],
   "source": [
    "import numpy as np\n",
    "from sklearn.linear_model import LinearRegression\n",
    "import matplotlib.pyplot as plt\n",
    "%matplotlib inline "
   ]
  },
  {
   "cell_type": "markdown",
   "metadata": {},
   "source": [
    "- Here is some sample data that we are going to use in our program\n",
    "- The data is stored in regular python lists"
   ]
  },
  {
   "cell_type": "code",
   "execution_count": null,
   "metadata": {},
   "outputs": [],
   "source": [
    "x = [0,1,2,3,4,5,6]\n",
    "y = [4.2,7.5,9,12.3,14,19.2, 22]\n",
    "print(x)\n",
    "print(y)\n"
   ]
  },
  {
   "cell_type": "markdown",
   "metadata": {},
   "source": [
    "It is usually a good idea to look at the data before you do anything else to determine if the data is even a good candidate for a linear regression. \n",
    "\n",
    "We can use the plot command from the matplotlib to accomplish our task.  You need to give it two lists with the same size, and if you want a scatter plot, put the 'o' as the marker after the list variable\n",
    "\n"
   ]
  },
  {
   "cell_type": "code",
   "execution_count": null,
   "metadata": {},
   "outputs": [],
   "source": [
    "plt.plot(x,y, 'o')"
   ]
  },
  {
   "cell_type": "markdown",
   "metadata": {},
   "source": [
    "Looking at the data below it looks like a line of best fit will give us pretty good results if trying to predict future values.\n",
    "\n",
    "\n",
    "Before we can use the linear regression functions from the SKLEARN Library, we need to convert the data from a list to a Column Matrix.\n",
    "\n",
    "np.matrix(list) will convert to a row matrix, and its transpose np.matrix(list).T will make it a column matrix\n",
    "\n"
   ]
  },
  {
   "cell_type": "code",
   "execution_count": null,
   "metadata": {},
   "outputs": [],
   "source": [
    "x = np.matrix(x).T\n",
    "y = np.matrix(y).T\n",
    "print(x)\n",
    "print(y)"
   ]
  },
  {
   "cell_type": "markdown",
   "metadata": {},
   "source": [
    "We start the linear regression using a function called LinearRegression and store all its properties in a variable called lm.  We can then use that variable to perform tasks on the linear regression"
   ]
  },
  {
   "cell_type": "code",
   "execution_count": null,
   "metadata": {},
   "outputs": [],
   "source": [
    "lm = LinearRegression()"
   ]
  },
  {
   "cell_type": "markdown",
   "metadata": {},
   "source": [
    "Now we can build the line of best fit and get the theta values."
   ]
  },
  {
   "cell_type": "code",
   "execution_count": null,
   "metadata": {
    "scrolled": true
   },
   "outputs": [],
   "source": [
    "lm.fit(x,y)\n",
    "theta0 = lm.intercept_[0]\n",
    "theta1 = lm.coef_[0][0]\n",
    "print(\"The equation that best models the data set is:\")\n",
    "print(\"y=\",theta0, \"+\", theta1,\"X\")"
   ]
  },
  {
   "cell_type": "markdown",
   "metadata": {},
   "source": [
    "The following code will allow you to draw the line of best fit on the data.  \n",
    "- This is accomplished by creating a list of x and y values for the equation y = theta0 + theta1*x\n",
    "\n",
    "We need to know the range of our data to build that list which is why we find the minimum and max values for our data set"
   ]
  },
  {
   "cell_type": "code",
   "execution_count": null,
   "metadata": {},
   "outputs": [],
   "source": [
    "lbfY = []\n",
    "lbfX = []\n",
    "xMin = int(np.min(x))\n",
    "xMax = int(np.max(x))\n",
    "for i in range(xMin,xMax+1):\n",
    "    lbfY.append(theta0 + theta1*i)\n",
    "    lbfX.append(i)\n",
    "plt.plot(x,y,'o')\n",
    "plt.plot(lbfX,lbfY)\n"
   ]
  },
  {
   "cell_type": "markdown",
   "metadata": {},
   "source": [
    "Make some Predictions about future data using the model"
   ]
  },
  {
   "cell_type": "code",
   "execution_count": null,
   "metadata": {},
   "outputs": [],
   "source": [
    "#Find the y when x = 7\n",
    "p1 = lm.predict([[7]])\n",
    "print(p1)\n",
    "\n",
    "#Find the y when x = 3\n",
    "p2 = lm.predict([[3]])\n",
    "print(p2)"
   ]
  },
  {
   "cell_type": "markdown",
   "metadata": {},
   "source": [
    "# Question #1\n",
    "\n",
    "Fill in the code block below so it accomplishes the following tasks\n",
    "\n",
    "1.  Perform a linear regression on the data and print out the equation (y= theta0 + theta1x)\n",
    "2.  Plot the original data as a scatter plot and then the line of best fit on the same axis\n",
    "5.  Comment in a few words on how well you think your model does\n",
    "6.  Predict some future values of y when x = 30, x = 55, x = 75\n",
    "  "
   ]
  },
  {
   "cell_type": "code",
   "execution_count": null,
   "metadata": {
    "scrolled": true
   },
   "outputs": [],
   "source": [
    "#Code to read data from a text file\n",
    "#Make sure that text file is in the same directory as this notebook file\n",
    "import os\n",
    "path = os.getcwd() + '\\data.txt'\n",
    "\n",
    "x=[]\n",
    "y=[]\n",
    "file = open(path,\"r\")\n",
    "while True:\n",
    "    line = file.readline()\n",
    "    if not line:\n",
    "        break\n",
    "    else:\n",
    "        values = line.split(\",\")\n",
    "        x.append(float(values[0]))\n",
    "        y.append(float(values[1].rstrip(\"\\n\")))\n",
    "file.close()\n",
    "\n",
    "#---Type your solution here-------------------------------\n",
    "\n",
    "#Code for linear Regression\n",
    "\n",
    "\n",
    "\n",
    "#Code for Graphs\n",
    "\n",
    "\n",
    "\n",
    "\"\"\"\n",
    "Comments on how well the model does\n",
    "\n",
    "\n",
    "\"\"\"\n",
    "\n",
    "#Code for Predictions\n",
    "\n"
   ]
  },
  {
   "cell_type": "markdown",
   "metadata": {},
   "source": [
    "# Question #2 - Food Truck Data\n",
    "\n",
    "Writing our own version of a Linear Regression Algorithm using Matrices\n",
    "\n",
    "Make sure you have **looked at the Presentation** online and also **Read the pdf file** that you downloaded with this assignment that explains the matrix math in a little more detail\n",
    "\n",
    "Follow along the steps below and complete the code when asked\n"
   ]
  },
  {
   "cell_type": "markdown",
   "metadata": {},
   "source": [
    "About The Data Set:\n",
    "\n",
    "Suppose you are the CEO of a restaurant franchise and are considering different cities for opening a new outlet. The chain already has trucks in various cities and you have data for profits and populations from the cities. The data represents 1000's of people and 1000's of dollars\n",
    "\n",
    "### Instructions\n"
   ]
  },
  {
   "cell_type": "markdown",
   "metadata": {},
   "source": [
    "Fill two lists named x and y with the data from **FoodTruck.txt**\n",
    "- x represents Population\n",
    "- y respresents Profit\n",
    "\n"
   ]
  },
  {
   "cell_type": "code",
   "execution_count": null,
   "metadata": {},
   "outputs": [],
   "source": [
    "#---Type your solution here-------------------------------\n",
    "\n"
   ]
  },
  {
   "cell_type": "markdown",
   "metadata": {},
   "source": [
    "Make a scater plot of the data"
   ]
  },
  {
   "cell_type": "code",
   "execution_count": null,
   "metadata": {},
   "outputs": [],
   "source": [
    "#---Type your solution here-------------------------------\n"
   ]
  },
  {
   "cell_type": "markdown",
   "metadata": {},
   "source": [
    "Make an initial guess for the value of theta0 and theta1 by looking at your plot"
   ]
  },
  {
   "cell_type": "code",
   "execution_count": null,
   "metadata": {},
   "outputs": [],
   "source": [
    "#--- Model Parameters ---------------------------------------------------\n",
    "#THESE VALUES YOU CAN CHANGE TO SEE HOW THE RESULTS OF YOUR REGRESSION CHANGE\n",
    "\n",
    "#Initial Guess for Weights in hypothesis function\n",
    "theta0 = \n",
    "theta1 = \n",
    "\n",
    "#learning rate \n",
    "alpha = 0.01\n",
    "\n",
    "#convergence so we know when to stop (0.1 -> converage after 1 decimal spot, 0.01 converage after 2 decimal spots)\n",
    "conv = 0.001\n",
    "\n",
    "#-----------------------------------------------------------------------"
   ]
  },
  {
   "cell_type": "markdown",
   "metadata": {},
   "source": [
    "Find the length of the x list using the len(listName) command.  Store the result in a variable called m"
   ]
  },
  {
   "cell_type": "code",
   "execution_count": null,
   "metadata": {},
   "outputs": [],
   "source": [
    "#---Type your solution here-------------------------------\n",
    "m = "
   ]
  },
  {
   "cell_type": "markdown",
   "metadata": {},
   "source": [
    "Convert the x and y lists to a column matrix"
   ]
  },
  {
   "cell_type": "code",
   "execution_count": null,
   "metadata": {},
   "outputs": [],
   "source": [
    "#---Type your solution here-------------------------------\n",
    "x = \n",
    "y ="
   ]
  },
  {
   "cell_type": "markdown",
   "metadata": {},
   "source": [
    "Create a (2 x 1) column matrix containing the values from theta0 and theta1.  Call that matrix theta"
   ]
  },
  {
   "cell_type": "code",
   "execution_count": null,
   "metadata": {},
   "outputs": [],
   "source": [
    "#---Type your solution here-------------------------------\n",
    "theta = "
   ]
  },
  {
   "cell_type": "markdown",
   "metadata": {},
   "source": [
    "Create an (m x 1) column matrix filled with ones.  Call the matrix ones.\n",
    "- You can use the function np.ones( (#ofRows, #ofColumns) ) to accomplish this"
   ]
  },
  {
   "cell_type": "code",
   "execution_count": null,
   "metadata": {},
   "outputs": [],
   "source": [
    "#---Type your solution here-------------------------------\n",
    "ones ="
   ]
  },
  {
   "cell_type": "markdown",
   "metadata": {},
   "source": [
    "Stack the ones column matrix before the x matrix to make a new (m x 2) matrix called x\n",
    "- You can use the function np.hstack(col1MatrixName, col2MatrixName) to accomplish this\n",
    "- Note:  If you run this code more than once you will keep stacking 1's into the matrix\n",
    "- Print x after you run it to make sure everything is ok"
   ]
  },
  {
   "cell_type": "code",
   "execution_count": null,
   "metadata": {},
   "outputs": [],
   "source": [
    "#---Type your solution here-------------------------------\n",
    "x = "
   ]
  },
  {
   "cell_type": "markdown",
   "metadata": {},
   "source": [
    "This next section is going to do the gradient descent algorithm to minimize the cost.  Fill in the missing code under the comments"
   ]
  },
  {
   "cell_type": "code",
   "execution_count": null,
   "metadata": {},
   "outputs": [],
   "source": [
    "previousCost = 0\n",
    "numSteps = 0\n",
    "while True:\n",
    "    \n",
    "    #Counts how many times the gradient descent takes to reach the minimum cost\n",
    "    numSteps = numSteps + 1\n",
    "    \n",
    "    #create the hypothesis matrix\n",
    "    #Its the dot product betwween the x matrix and the Theta matrix\n",
    "    hypothesis =   \n",
    "    \n",
    "    #create the error matrix\n",
    "    #Its the hypothesis matrix subtracted by the y matrix\n",
    "    error = \n",
    "    \n",
    "    #Calculate the sum of the errors squared\n",
    "    #Its the dot product between the transpose of the error matrix and the non transposed error matrix\n",
    "    totalError = \n",
    "    \n",
    "    #Calculate the cost\n",
    "    #Its 1/(2m) multiplied by the total error\n",
    "    cost = \n",
    "    \n",
    "    #Checking if the cost has converged to less than the conversion parameter\n",
    "    if abs(previousCost - cost) <= conv:\n",
    "        break\n",
    "    else:\n",
    "        #Calculate new alpha error for theta0\n",
    "        #Its the dot product of the transposed error matrix with the first column of the x matrix x[:,0]\n",
    "        alphaError0 = \n",
    "        \n",
    "        #Calculate new alpha error for theta1\n",
    "        #Its the dot product of the transposed error matrix with the second column of the x matrix x[:,1]        \n",
    "        alphaError1 = \n",
    "        \n",
    "        #Calculate the new theta0 value\n",
    "        #Its the theta0 value - alpha/m multiplied by alphaError0\n",
    "        theta0 = \n",
    "        \n",
    "        #Calculate the new theta1 value\n",
    "        #Its the theta1 value - alpha/m multiplied by alphaError1\n",
    "        theta1 =\n",
    "    \n",
    "        #Put the new theta values into the theta matrix\n",
    "        theta = np.matrix([[theta0[0,0]],[theta1[0,0]]])\n",
    "        \n",
    "        #reset the previous cost for next comparison\n",
    "        previousCost = cost"
   ]
  },
  {
   "cell_type": "markdown",
   "metadata": {},
   "source": [
    "Print the value of:  \n",
    "-  numSteps\n",
    "-  theta0\n",
    "-  theta1\n",
    "-  cost"
   ]
  },
  {
   "cell_type": "code",
   "execution_count": null,
   "metadata": {},
   "outputs": [],
   "source": [
    "#---Type your solution here-------------------------------\n",
    "\n",
    "\n",
    "\n"
   ]
  },
  {
   "cell_type": "markdown",
   "metadata": {},
   "source": [
    "Make comments on what happens when you change the parameters at the start of the program\n",
    "- What happens when you change theta0 and theta1?\n",
    "- What happens when you increase alpha?  decrease alpha?\n",
    "- What happens when you increase conv?  decrease conv?\n",
    "\n",
    "You will have to rerun all the code cells in Question2 to see the results of your changes"
   ]
  },
  {
   "cell_type": "code",
   "execution_count": null,
   "metadata": {},
   "outputs": [],
   "source": [
    "\"\"\"\n",
    "---Type your comments here-------------------------------\n",
    "\n",
    "\n",
    "\n",
    "\"\"\""
   ]
  },
  {
   "cell_type": "markdown",
   "metadata": {},
   "source": [
    "Choose acceptable initial parameters and then make a prediction of the Profit for a Population of 55000 people \n",
    "- Remember the population # in the data set is in 1000's of people\n",
    "- Remember the model is theta0 + theta1*x\n",
    "\n",
    "Print the answer"
   ]
  },
  {
   "cell_type": "code",
   "execution_count": null,
   "metadata": {},
   "outputs": [],
   "source": [
    "#---Type your solution here-------------------------------\n",
    "\n",
    "\n",
    "\n"
   ]
  },
  {
   "cell_type": "markdown",
   "metadata": {},
   "source": [
    "You've Finished Your First Regression Coding Assignment\n",
    "- I recommend going to the Kernal Menu -> Restart & Run All\n",
    "    - This will make sure there is no weird errors going on that sometimes occur with Jupyter Notebooks\n",
    "- Save and upload this document to be graded"
   ]
  },
  {
   "cell_type": "code",
   "execution_count": null,
   "metadata": {},
   "outputs": [],
   "source": []
  }
 ],
 "metadata": {
  "kernelspec": {
   "display_name": "Python 3",
   "language": "python",
   "name": "python3"
  },
  "language_info": {
   "codemirror_mode": {
    "name": "ipython",
    "version": 3
   },
   "file_extension": ".py",
   "mimetype": "text/x-python",
   "name": "python",
   "nbconvert_exporter": "python",
   "pygments_lexer": "ipython3",
   "version": "3.7.3"
  }
 },
 "nbformat": 4,
 "nbformat_minor": 2
}
